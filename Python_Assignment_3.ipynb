{
 "cells": [
  {
   "cell_type": "code",
   "execution_count": 61,
   "metadata": {},
   "outputs": [
    {
     "data": {
      "text/plain": [
       "163"
      ]
     },
     "execution_count": 61,
     "metadata": {},
     "output_type": "execute_result"
    }
   ],
   "source": [
    "# Q1.1 Build myreduce() function #\n",
    "\n",
    "def myreduce(func,lst):\n",
    "    x=lst[0]\n",
    "    for i in range(1,len(lst)):\n",
    "        x = func(x,lst[i])\n",
    "    return (x)\n",
    "\n",
    "def add(a,b):\n",
    "    return a+b\n",
    "list1=[34,45,55,29]\n",
    "myreduce(add,list1)"
   ]
  },
  {
   "cell_type": "code",
   "execution_count": 60,
   "metadata": {},
   "outputs": [
    {
     "data": {
      "text/plain": [
       "[2, 6, 8]"
      ]
     },
     "execution_count": 60,
     "metadata": {},
     "output_type": "execute_result"
    }
   ],
   "source": [
    "# Q1.2 Build myfilter() function #\n",
    "\n",
    "def myfilter(func,lst):\n",
    "    y=[]\n",
    "    for i in range(0,len(lst)):\n",
    "        x= func(lst[i])\n",
    "        if x==True:\n",
    "            y.append(lst[i])\n",
    "    return y\n",
    "    \n",
    "def check_even(num):\n",
    "    if num % 2 == 0:\n",
    "        return True\n",
    "\n",
    "list1= [2,41,35,6,8]\n",
    "myfilter(check_even,list1)"
   ]
  },
  {
   "cell_type": "code",
   "execution_count": 63,
   "metadata": {},
   "outputs": [
    {
     "data": {
      "text/plain": [
       "['A', 'I', 'Y', 'A']"
      ]
     },
     "execution_count": 63,
     "metadata": {},
     "output_type": "execute_result"
    }
   ],
   "source": [
    "list2= [\"A\",\"d\",\"I\",\"t\",\"Y\",\"A\"]\n",
    "myfilter(str.isupper,list2)"
   ]
  },
  {
   "cell_type": "code",
   "execution_count": 2,
   "metadata": {},
   "outputs": [
    {
     "data": {
      "text/plain": [
       "[(1, 1), (2, 1), (3, 1), (1, 2), (2, 2), (3, 2), (1, 3), (2, 3), (3, 3)]"
      ]
     },
     "execution_count": 2,
     "metadata": {},
     "output_type": "execute_result"
    }
   ],
   "source": [
    "# Q2 List Comprehensions #\n",
    "\n",
    "# A) ['x', 'xx', 'xxx', 'xxxx', 'y', 'yy', 'yyy', 'yyyy', 'z', 'zz', 'zzz', 'zzzz'] #\n",
    "mylist= [x * y for x in ['x','y','z'] for y in [1, 2, 3, 4]]\n",
    "mylist\n",
    "\n",
    "# B) ['x', 'y', 'z', 'xx', 'yy', 'zz', 'xxx', 'yyy', 'zzz', 'xxxx', 'yyyy', 'zzzz'] #\n",
    "mylist= [x * y for y in [1, 2, 3, 4] for x in ['x','y','z']]\n",
    "mylist\n",
    "\n",
    "# C) [[2], [3], [4], [3], [4], [5], [4], [5], [6]] #\n",
    "mylist= [[x+y] for x in [1,2,3] for y in [1,2,3]]\n",
    "mylist\n",
    "\n",
    "# D) [[2, 3, 4, 5], [3, 4, 5, 6],[4, 5, 6, 7], [5, 6, 7, 8]] #\n",
    "mylist= [[x+y for y in [1,2,3,4]] for x in [1,2,3,4]]\n",
    "mylist\n",
    "\n",
    "# E) [(1, 1), (2, 1), (3, 1), (1, 2), (2, 2), (3, 2), (1, 3), (2, 3), (3, 3)] #\n",
    "mylist= [(x,y) for y in [1,2,3] for x in [1,2,3]]\n",
    "mylist"
   ]
  },
  {
   "cell_type": "code",
   "execution_count": null,
   "metadata": {},
   "outputs": [],
   "source": []
  }
 ],
 "metadata": {
  "kernelspec": {
   "display_name": "Python 3",
   "language": "python",
   "name": "python3"
  },
  "language_info": {
   "codemirror_mode": {
    "name": "ipython",
    "version": 3
   },
   "file_extension": ".py",
   "mimetype": "text/x-python",
   "name": "python",
   "nbconvert_exporter": "python",
   "pygments_lexer": "ipython3",
   "version": "3.8.3"
  }
 },
 "nbformat": 4,
 "nbformat_minor": 4
}
