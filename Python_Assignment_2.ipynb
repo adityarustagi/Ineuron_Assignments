{
 "cells": [
  {
   "cell_type": "code",
   "execution_count": 90,
   "metadata": {
    "scrolled": false
   },
   "outputs": [
    {
     "name": "stdout",
     "output_type": "stream",
     "text": [
      "*\n",
      "**\n",
      "***\n",
      "****\n",
      "*****\n",
      "****\n",
      "***\n",
      "**\n",
      "*\n"
     ]
    }
   ],
   "source": [
    "# Question 1 #\n",
    "\n",
    "# Program to dislay pattern using nested for loop #\n",
    "\n",
    "for i in range(0,5):\n",
    "    for j in range (0,i+1):\n",
    "        print('*',end='')\n",
    "    print(\"\")\n",
    "\n",
    "for i in range(4,0,-1):\n",
    "    for j in range (i,0,-1):\n",
    "        print('*',end='')\n",
    "    print(\"\")"
   ]
  },
  {
   "cell_type": "code",
   "execution_count": 68,
   "metadata": {},
   "outputs": [
    {
     "name": "stdout",
     "output_type": "stream",
     "text": [
      "Input word Aditya\n",
      "Output :aytidA\n"
     ]
    }
   ],
   "source": [
    "# Question 2 #\n",
    "\n",
    "# Python program to reverse a word after accepting the input from the user #\n",
    "\n",
    "s = input(\"Input word \")\n",
    "print('Output :'+ s[::-1])"
   ]
  },
  {
   "cell_type": "code",
   "execution_count": null,
   "metadata": {},
   "outputs": [],
   "source": []
  }
 ],
 "metadata": {
  "kernelspec": {
   "display_name": "Python 3",
   "language": "python",
   "name": "python3"
  },
  "language_info": {
   "codemirror_mode": {
    "name": "ipython",
    "version": 3
   },
   "file_extension": ".py",
   "mimetype": "text/x-python",
   "name": "python",
   "nbconvert_exporter": "python",
   "pygments_lexer": "ipython3",
   "version": "3.8.3"
  }
 },
 "nbformat": 4,
 "nbformat_minor": 4
}
